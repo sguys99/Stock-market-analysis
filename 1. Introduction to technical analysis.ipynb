{
 "cells": [
  {
   "cell_type": "markdown",
   "metadata": {},
   "source": [
    "# Stock market analysis\n",
    "## part 1. Introduction to technical analysis"
   ]
  },
  {
   "cell_type": "markdown",
   "metadata": {},
   "source": [
    "<div style=\"text-align: right\"> <b>Author : Kwang Myung Yu</b></div> "
   ]
  },
  {
   "cell_type": "markdown",
   "metadata": {},
   "source": [
    "<div style=\"text-align: right\"> Initial upload: 2020.08.19 </div> \n",
    "<div style=\"text-align: right\"> Last update: 2020.08.19</div> "
   ]
  },
  {
   "cell_type": "markdown",
   "metadata": {},
   "source": [
    "## 1. 기술적 분석 개요"
   ]
  },
  {
   "cell_type": "markdown",
   "metadata": {},
   "source": [
    "유가증권 투자를 위한 분석 방법론은 다음의 두가지로 분류된다.  \n",
    "- **기본적 분석(fundamental analysis) :** 회사의 내제 가치를 추정하여 투자를 결정하는 방법. 흔히 말하는 가치투자\n",
    "    - 주로 재무제표를 활용, 장기 데이터를 활용, 투자(Investment)에 사용\n",
    "- **기술적 분석(technical analysis) :** 주식의 가격변동 추이(차트)를 분석하여 투자를 결정하는 방법  \n",
    "    - 주로 차트를 활용, 단기 데이터를 활용, 거래(Trade)에 사용"
   ]
  },
  {
   "cell_type": "markdown",
   "metadata": {},
   "source": [
    "기술적 분석 분야는 다음 세가지를 가정한다.  \n",
    "- 주식은 기업의 기본 가치(기본적 요소)외에 경제적 요소, 시장 심리에 영향을 받아 가격이 결정된다. 다시 말해 공급과 수요의 기술적 측면에 의해 가격변동이 발생하고 기본 가치보다 할인되기도 한다.  \n",
    "- 가격은 추세(Trend)를 따른다.  \n",
    "- 기록은 되풀이 된다. 따라서 과거의 사례를 분석할 필요가 있다."
   ]
  },
  {
   "cell_type": "markdown",
   "metadata": {},
   "source": [
    "기술적 분석에서 가장 중요한 개념은 추세(Trend)이다. 추세의 유형은 다음의 3가지가 있다.  \n",
    "- 상승 추세(uptrends), 하강 추세(downtrends), 보합(sideways) 또는 수평(horizontal) 추세"
   ]
  },
  {
   "cell_type": "markdown",
   "metadata": {},
   "source": [
    "주식에서 추세를 나타내기 위해 차트 위에 표시된 선을 추세선이라고 한다. "
   ]
  },
  {
   "cell_type": "markdown",
   "metadata": {},
   "source": [
    "과거의 사례를 참고 했을 때 주식 장에서 나타나는 대표적인 차트 패턴이 있다.  \n",
    "- head and shoulders, cup and handle, double top and bottom, triangles, gap 등  \n",
    "- 참고자료 : https://medium.com/@igniter.yoo/%EA%B8%B0%EC%88%A0%EC%A0%81-%EB%B6%84%EC%84%9D%EC%9D%98-%EA%B8%B0%EC%B4%88-basics-of-technical-analysis-9-%EC%B0%A8%ED%8A%B8-%ED%8C%A8%ED%84%B4-451468ccd195"
   ]
  },
  {
   "cell_type": "code",
   "execution_count": null,
   "metadata": {},
   "outputs": [],
   "source": []
  },
  {
   "cell_type": "markdown",
   "metadata": {},
   "source": [
    "## 2. 기술 지표(Technical indicators)  "
   ]
  },
  {
   "cell_type": "markdown",
   "metadata": {},
   "source": [
    "### 2.1 오버레이(Overlays)"
   ]
  },
  {
   "cell_type": "markdown",
   "metadata": {},
   "source": [
    "기술지표는 기술적 분석에서 차트에 통계적인 접근을 위한 계산식 또는 정보를 의미한다.  \n",
    "기술지표 중에서 주가와 같은 스케일 값을 가져서 주가 차트위에 겹쳐져서 그려질 수 있는 것을 **오버레이(Overlays)**라고 한다.  \n",
    "일반적으로 오버레이는 주가 차트에 겹쳐져서 그려지고, 그외의 지표는 별도의 차트에 그려진다."
   ]
  },
  {
   "cell_type": "markdown",
   "metadata": {},
   "source": [
    "대표적인 오버레이는 다음과 같다.  \n",
    "- 이동평균(Moving averages), 볼린저밴드(Bollinger Bands), 이동평균 인벨롭(Moving Average Envelopes) 등   \n",
    "\n",
    "오버레이가 아닌 기술지표 예는 다음과 같다.  \n",
    "- MACD (Moving Average Convergence/Divergence Oscillator), RSI(Relative Strength Index) 등  "
   ]
  },
  {
   "cell_type": "markdown",
   "metadata": {},
   "source": [
    "그외의 지표에 대해서는 다음 링크를 참고한다.  \n",
    "- 참고자료 : https://school.stockcharts.com/doku.php?id=technical_indicators"
   ]
  },
  {
   "cell_type": "markdown",
   "metadata": {},
   "source": [
    "### 2.2 선행지표(Leading indicators)와 후행지표(Lagging indicators)"
   ]
  },
  {
   "cell_type": "markdown",
   "metadata": {},
   "source": [
    "**선행 지표(Leading Indicators)**는 가격 변동에 선행하는 지표이다. 따라서 미래를 예측하는데 사용된다. 주로 보합이나 추세가 약한 가격변동 구간에서 유용하다. 저항선 돌파나 지지선 붕괴 지점을 확인할 수 있기 때문이다."
   ]
  },
  {
   "cell_type": "markdown",
   "metadata": {},
   "source": [
    "**후행 지표(Laggind indicators)**는 가격 변동을 따라가며 추세를 확인하는 도구로 사용된다. 다시 말해, 어떤 추세가 지속되는지 약화되는지 확인할 때 사용된다. 따라서 상승, 하강 추세에서 유용하다."
   ]
  },
  {
   "cell_type": "markdown",
   "metadata": {},
   "source": [
    "### 2.3 오실레이터(Oscilators)와 넌바운디드(Non-bounded)  \n",
    "지표의 생성되는 방식에 따라 오실레이터와 넌바운디드로 나뉜다."
   ]
  },
  {
   "cell_type": "markdown",
   "metadata": {},
   "source": [
    "**오실레이터(Oscilators)**는 차트의 센터라인을 중심으로 진동하거나(Centered), 특정 레벨 사이에서 변하는(Banded) 지표를 말한다.  \n",
    "Centered 오실레이터에는 MACD, ROC(Rate of change) 등이 있다.  \n",
    "Banded 오실레이터에슨 RSI, Stochastic, CCI(Commodity Channel Index) 등이 있다.  \n",
    "- 참고자료 : https://school.stockcharts.com/doku.php?id=technical_indicators:introduction_to_technical_indicators_and_oscillators  \n",
    "- 참고자료 : https://medium.com/@igniter.yoo/%EA%B8%B0%EC%88%A0%EC%A0%81-%EB%B6%84%EC%84%9D%EC%9D%98-%EA%B8%B0%EC%B4%88-basics-of-technical-analysis-11-%EC%A7%80%ED%91%9C%EC%99%80-%EC%98%A4%EC%8B%A4%EB%A0%88%EC%9D%B4%ED%84%B0-e2bd08ffdb7d"
   ]
  },
  {
   "cell_type": "markdown",
   "metadata": {},
   "source": [
    "**넌바운디드(Non-bounded)**는 범위 설정이 없는 지표이다. 추세의 강함과 약한 정도를 확인하는데 사용되며, 이를 이용해 매수/ 매도 시점을 결정한다. 잘 사용되지는 않는다."
   ]
  },
  {
   "cell_type": "code",
   "execution_count": null,
   "metadata": {},
   "outputs": [],
   "source": []
  },
  {
   "cell_type": "markdown",
   "metadata": {},
   "source": [
    "## 3. 지표의 활용방법"
   ]
  },
  {
   "cell_type": "markdown",
   "metadata": {},
   "source": [
    "대표적인 지표 활용법은 **크로스오버(Crossovers)**와 **다이버전스(Divergence)**이다.  "
   ]
  },
  {
   "cell_type": "markdown",
   "metadata": {},
   "source": [
    "- **크로스오버**는 가격이 지표 추세선을 가로지르거나 두개의 지표 추세선이 교차하는 지점을 매수/ 매도 신호로 추정하는 방법이다.  \n",
    "- **다이버전스**는 가격의 추세방향과 지표의 움직임이 반대일 때 발생한다. 이 시점을 가격 추세의 움직임이 약화되는 시그널로 활용한다."
   ]
  },
  {
   "cell_type": "code",
   "execution_count": null,
   "metadata": {},
   "outputs": [],
   "source": []
  },
  {
   "cell_type": "markdown",
   "metadata": {},
   "source": [
    "## 4. 정리"
   ]
  },
  {
   "cell_type": "markdown",
   "metadata": {},
   "source": [
    "지금까지 주식의 기술적 분석의 개념과 분석에 사용되는 지표에 대하여 간략하게 살펴보았다.  \n",
    "다음 장 부터는 python과 pandas를 활용하여 주요 지표를 계산/ 시각화 하고, 분석 방법에 대하여 정리한다."
   ]
  },
  {
   "cell_type": "code",
   "execution_count": null,
   "metadata": {},
   "outputs": [],
   "source": []
  }
 ],
 "metadata": {
  "kernelspec": {
   "display_name": "Python 3",
   "language": "python",
   "name": "python3"
  },
  "language_info": {
   "codemirror_mode": {
    "name": "ipython",
    "version": 3
   },
   "file_extension": ".py",
   "mimetype": "text/x-python",
   "name": "python",
   "nbconvert_exporter": "python",
   "pygments_lexer": "ipython3",
   "version": "3.7.6"
  }
 },
 "nbformat": 4,
 "nbformat_minor": 4
}
